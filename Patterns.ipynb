{
 "cells": [
  {
   "cell_type": "code",
   "execution_count": 37,
   "id": "0bf3c59c",
   "metadata": {},
   "outputs": [
    {
     "name": "stdout",
     "output_type": "stream",
     "text": [
      "\n",
      "* \n",
      "* * \n",
      "* * * \n",
      "* * * * \n",
      "* * * * * \n"
     ]
    }
   ],
   "source": [
    "for i in range(6):\n",
    "    print(\"* \"*i) "
   ]
  },
  {
   "cell_type": "code",
   "execution_count": 39,
   "id": "edb9b7d4",
   "metadata": {},
   "outputs": [
    {
     "name": "stdout",
     "output_type": "stream",
     "text": [
      "* \n",
      "* * \n",
      "* * * \n",
      "* * * * \n",
      "* * * * * \n",
      "* * * * * * \n",
      "* * * * * * * \n"
     ]
    }
   ],
   "source": [
    "def pattern1(n):\n",
    "    for i in range(0,n):\n",
    "        for j in range(0,i+1):\n",
    "            print(\"*\",end=\" \")\n",
    "        print()\n",
    "pattern1(7)"
   ]
  },
  {
   "cell_type": "code",
   "execution_count": 13,
   "id": "f88a8e88",
   "metadata": {},
   "outputs": [
    {
     "name": "stdout",
     "output_type": "stream",
     "text": [
      "* * * * * * \n",
      "* * * * * \n",
      "* * * * \n",
      "* * * \n",
      "* * \n",
      "* \n"
     ]
    }
   ],
   "source": [
    "for i in range(6,0,-1):\n",
    "    print(\"* \"*i)"
   ]
  },
  {
   "cell_type": "code",
   "execution_count": 46,
   "id": "5fb89a47",
   "metadata": {},
   "outputs": [
    {
     "name": "stdout",
     "output_type": "stream",
     "text": [
      "* * * * * * * \n",
      "* * * * * * \n",
      "* * * * * \n",
      "* * * * \n",
      "* * * \n",
      "* * \n",
      "* \n"
     ]
    }
   ],
   "source": [
    "def pattern2(n):\n",
    "    for i in range(n,0,-1):\n",
    "        for j in range(0,i):\n",
    "            print(\"*\",end=\" \")\n",
    "        print()\n",
    "pattern2(7)"
   ]
  },
  {
   "cell_type": "code",
   "execution_count": 29,
   "id": "7d9c7ad8",
   "metadata": {},
   "outputs": [
    {
     "name": "stdout",
     "output_type": "stream",
     "text": [
      "    * \n",
      "   * * \n",
      "  * * * \n",
      " * * * * \n",
      "* * * * * \n"
     ]
    }
   ],
   "source": [
    "for i in range(1,6):\n",
    "    for j in range(4,-1,-1):\n",
    "        print(\" \"*j+\"* \"*i)\n",
    "        i+=1\n",
    "    break\n",
    "    "
   ]
  },
  {
   "cell_type": "code",
   "execution_count": 47,
   "id": "ee6883f7",
   "metadata": {},
   "outputs": [
    {
     "name": "stdout",
     "output_type": "stream",
     "text": [
      "     * \n",
      "    * * \n",
      "   * * * \n",
      "  * * * * \n",
      " * * * * * \n",
      "* * * * * * \n"
     ]
    }
   ],
   "source": [
    "def pattern3(n):\n",
    "    for i in range(0,n):\n",
    "        for j in range(0,n-i-1):\n",
    "            print(end=\" \")\n",
    "        for k in range(0,i+1):\n",
    "            print(\"*\",end=\" \")\n",
    "        print()\n",
    "pattern3(6)"
   ]
  },
  {
   "cell_type": "code",
   "execution_count": 34,
   "id": "72257a88",
   "metadata": {},
   "outputs": [
    {
     "name": "stdout",
     "output_type": "stream",
     "text": [
      "* * * * * \n",
      " * * * * \n",
      "  * * * \n",
      "   * * \n",
      "    * \n",
      "     \n"
     ]
    }
   ],
   "source": [
    "for i in range(0,5):\n",
    "    for j in range(5,-1,-1):\n",
    "        print(\" \"*i+\"* \"*j)\n",
    "#         print(i,j)\n",
    "        i+=1\n",
    "    break"
   ]
  },
  {
   "cell_type": "code",
   "execution_count": 51,
   "id": "34e9bc3c",
   "metadata": {},
   "outputs": [
    {
     "name": "stdout",
     "output_type": "stream",
     "text": [
      "* * * * * \n",
      " * * * * \n",
      "  * * * \n",
      "   * * \n",
      "    * \n"
     ]
    }
   ],
   "source": [
    "def pattern4(n):\n",
    "    for i in range(n,0,-1):\n",
    "        for j in range(0,n-i):\n",
    "            print(end=\" \")\n",
    "        for k in range(0,i):\n",
    "            print(\"*\",end=\" \")\n",
    "        print()\n",
    "pattern4(5)"
   ]
  },
  {
   "cell_type": "code",
   "execution_count": 53,
   "id": "f77a402e",
   "metadata": {},
   "outputs": [
    {
     "name": "stdout",
     "output_type": "stream",
     "text": [
      "   * \n",
      "  * * \n",
      " * * * \n",
      "* * * * \n",
      "* * * * \n",
      " * * * \n",
      "  * * \n",
      "   * \n"
     ]
    }
   ],
   "source": [
    "def pattern5(n):\n",
    "    pattern3(n)\n",
    "    pattern4(n)\n",
    "pattern5(4)"
   ]
  },
  {
   "cell_type": "code",
   "execution_count": 58,
   "id": "11a26a52",
   "metadata": {},
   "outputs": [
    {
     "name": "stdout",
     "output_type": "stream",
     "text": [
      "       * \n",
      "      * * \n",
      "     * * * \n",
      "    * * * * \n",
      "   * * * * * \n",
      "  * * * * * * \n",
      " * * * * * * * \n",
      "* * * * * * * * \n",
      " * * * * * * * \n",
      "  * * * * * * \n",
      "   * * * * * \n",
      "    * * * * \n",
      "     * * * \n",
      "      * * \n",
      "       * \n"
     ]
    }
   ],
   "source": [
    "def pattern5(n):\n",
    "    pattern3(n)\n",
    "    for i in range(n-1,0,-1):\n",
    "        for j in range(0,n-i):\n",
    "            print(end=\" \")\n",
    "        for k in range(0,i):\n",
    "            print(\"*\",end=\" \")\n",
    "        print()\n",
    "pattern5(8)"
   ]
  },
  {
   "cell_type": "code",
   "execution_count": 60,
   "id": "08e3d27b",
   "metadata": {},
   "outputs": [
    {
     "name": "stdout",
     "output_type": "stream",
     "text": [
      "      *\n",
      "     * *\n",
      "    * * *\n",
      "   * * * *\n",
      "  * * * * *\n",
      "   * * * *\n",
      "    * * *\n",
      "     * *\n",
      "      *\n"
     ]
    }
   ],
   "source": [
    "def pattern5(n):\n",
    "    for i in range(n):\n",
    "        print(\" \"*(n-i)+\" *\"*(i+1))\n",
    "    for j in range(n-1):\n",
    "        print(\" \"*(j+2)+\" *\"*(n-1-j))\n",
    "pattern5(5)"
   ]
  },
  {
   "cell_type": "code",
   "execution_count": null,
   "id": "7c7083c0",
   "metadata": {},
   "outputs": [],
   "source": []
  }
 ],
 "metadata": {
  "kernelspec": {
   "display_name": "Python 3 (ipykernel)",
   "language": "python",
   "name": "python3"
  },
  "language_info": {
   "codemirror_mode": {
    "name": "ipython",
    "version": 3
   },
   "file_extension": ".py",
   "mimetype": "text/x-python",
   "name": "python",
   "nbconvert_exporter": "python",
   "pygments_lexer": "ipython3",
   "version": "3.9.12"
  }
 },
 "nbformat": 4,
 "nbformat_minor": 5
}
