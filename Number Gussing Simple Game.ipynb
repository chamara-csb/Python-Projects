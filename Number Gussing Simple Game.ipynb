{
 "cells": [
  {
   "cell_type": "code",
   "execution_count": 13,
   "id": "421f55a5",
   "metadata": {},
   "outputs": [
    {
     "name": "stdout",
     "output_type": "stream",
     "text": [
      "6\n",
      "Insert gussing value: 15\n",
      "Value less than:  15\n",
      "Insert next gussing value: 8\n",
      "Value grate than:  8\n",
      "Insert next gussing value: 12\n",
      "Value less than:  12\n",
      "Insert next gussing value: 10\n",
      "Value less than:  10\n",
      "Insert next gussing value: 9\n",
      "You Win!\n"
     ]
    }
   ],
   "source": [
    "import random\n",
    "\n",
    "random_number = random.randint(0, 20)\n",
    "print(random_number)\n",
    "\n",
    "def game():\n",
    "    attemps=0\n",
    "    random_number = random.randint(0, 20)\n",
    "    enter_value=int(input(\"Insert gussing value: \"))\n",
    "    \n",
    "    while random_number!=enter_value:\n",
    "        \n",
    "        if enter_value>=1 and enter_value<=20:\n",
    "            \n",
    "            if random_number>enter_value:\n",
    "                print(\"Value grate than: \",enter_value)\n",
    "                attemps+=1\n",
    "                enter_value=int(input(\"Insert next gussing value: \"))\n",
    "            elif random_number<enter_value:\n",
    "                print(\"Value less than: \",enter_value)\n",
    "                attemps+=1\n",
    "                enter_value=int(input(\"Insert next gussing value: \"))\n",
    "            else:\n",
    "                print(\"You select correct value\")\n",
    "        else:\n",
    "            print(\"Input value between 1 and 20\")\n",
    "    \n",
    "    print(\"-----------------------------------\")\n",
    "    if attemps>=5:\n",
    "        print(\"You loss!\")\n",
    "    else:\n",
    "        print(\"You Win!\")\n",
    "game()"
   ]
  },
  {
   "cell_type": "code",
   "execution_count": null,
   "id": "0ae13dcb",
   "metadata": {},
   "outputs": [],
   "source": []
  }
 ],
 "metadata": {
  "kernelspec": {
   "display_name": "Python 3 (ipykernel)",
   "language": "python",
   "name": "python3"
  },
  "language_info": {
   "codemirror_mode": {
    "name": "ipython",
    "version": 3
   },
   "file_extension": ".py",
   "mimetype": "text/x-python",
   "name": "python",
   "nbconvert_exporter": "python",
   "pygments_lexer": "ipython3",
   "version": "3.9.12"
  }
 },
 "nbformat": 4,
 "nbformat_minor": 5
}
