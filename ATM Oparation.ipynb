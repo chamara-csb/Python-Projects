{
 "cells": [
  {
   "cell_type": "raw",
   "id": "b67d2044",
   "metadata": {},
   "source": [
    "Requirements:\n",
    "    cheking customer user name and password give acces to the account, give only 5 times to add corredct password."
   ]
  },
  {
   "cell_type": "code",
   "execution_count": 3,
   "id": "1f369fd2",
   "metadata": {},
   "outputs": [
    {
     "name": "stdout",
     "output_type": "stream",
     "text": [
      "Enter User Name: dfg\n",
      "Incorrect user name\n"
     ]
    }
   ],
   "source": [
    "user_details = {\"un\":[\"abc\",\"def\",\"ghi\"], \"pw\":[1234,5678,3456]}\n",
    "\n",
    "usern = input(\"Enter User Name: \")\n",
    "\n",
    "if usern in user_details[\"un\"]:\n",
    "    i = user_details[\"un\"].index(usern)\n",
    "    n = 1\n",
    "    password = user_details[\"pw\"][i]\n",
    "    epw = int(input(\"Enter password: \"))\n",
    "    while epw != password:\n",
    "        epw = int(input(\"Renter password: \"))\n",
    "        n+=1\n",
    "        print(5-n,\" attempt are remaining\")\n",
    "        if n==5:\n",
    "            print(\"five attempt exsided\")\n",
    "            break\n",
    "    print(\"login successful\")\n",
    "else:\n",
    "    print(\"Incorrect user name\")"
   ]
  },
  {
   "cell_type": "markdown",
   "id": "1e373c7d",
   "metadata": {},
   "source": []
  }
 ],
 "metadata": {
  "kernelspec": {
   "display_name": "Python 3 (ipykernel)",
   "language": "python",
   "name": "python3"
  },
  "language_info": {
   "codemirror_mode": {
    "name": "ipython",
    "version": 3
   },
   "file_extension": ".py",
   "mimetype": "text/x-python",
   "name": "python",
   "nbconvert_exporter": "python",
   "pygments_lexer": "ipython3",
   "version": "3.9.12"
  }
 },
 "nbformat": 4,
 "nbformat_minor": 5
}
