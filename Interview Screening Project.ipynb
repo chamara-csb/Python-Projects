{
 "cells": [
  {
   "cell_type": "code",
   "execution_count": 35,
   "id": "8c3fd602",
   "metadata": {},
   "outputs": [
    {
     "data": {
      "text/plain": [
       "['Jane', 'John']"
      ]
     },
     "execution_count": 35,
     "metadata": {},
     "output_type": "execute_result"
    }
   ],
   "source": [
    "\n",
    "   \n",
    "data=[{\"name\":\"Anne\",\"experience\":2,\"age\":24,\"qualification\":\"bachelors\",\"languages\":[\"python\",\"java\",\"c#\"]},\n",
    " {\"name\":\"Kane\",\"experience\":3,\"age\":28,\"qualification\":\"bachelor\",\"languages\":[\"java\",\"c#\",\"c++\"]},\n",
    " {\"name\":\"Jane\",\"experience\":7,\"age\":34,\"qualification\":\"masters\",\"languages\":[\"python\",\"java\",\"c#\",\"html\"]},\n",
    " {\"name\":\"John\",\"experience\":6,\"age\":28,\"qualification\":\"phd\",\"languages\":[\"python\",\"java\",\"html\"]},\n",
    " {\"name\":\"Jenny\",\"experience\":5,\"age\":24,\"qualification\":\"diploma\",\"languages\":[\"c#\",\"html\",\"python\",\"java\"]}]\n",
    "  \n",
    "\n",
    "  \n",
    "#\n",
    "# Candidate should have 4 year experiance\n",
    "# bachelor or higher education\n",
    "# Age grater than 22\n",
    "# Python and java\n",
    "\n",
    "min_exp=4\n",
    "qual=[\"bachelors\",\"masters\",\"phd\"]\n",
    "min_age=22\n",
    "exp_lang=[\"python\",\"java\"]\n",
    "selected=[]\n",
    "for cv in data:\n",
    "    \n",
    "    if (cv[\"experience\"]>=min_exp) and (cv[\"qualification\"] in qual) and (cv[\"age\"]>=min_age) and (set(exp_lang).issubset(set(cv[\"languages\"]))):\n",
    "        selected.append(cv[\"name\"])\n",
    "\n",
    "selected\n",
    "                        \n",
    "   \n",
    "  \n",
    "  "
   ]
  },
  {
   "cell_type": "code",
   "execution_count": null,
   "id": "dbe0dcfe",
   "metadata": {},
   "outputs": [],
   "source": []
  },
  {
   "cell_type": "code",
   "execution_count": null,
   "id": "a7ccc0c7",
   "metadata": {},
   "outputs": [],
   "source": []
  }
 ],
 "metadata": {
  "kernelspec": {
   "display_name": "Python 3 (ipykernel)",
   "language": "python",
   "name": "python3"
  },
  "language_info": {
   "codemirror_mode": {
    "name": "ipython",
    "version": 3
   },
   "file_extension": ".py",
   "mimetype": "text/x-python",
   "name": "python",
   "nbconvert_exporter": "python",
   "pygments_lexer": "ipython3",
   "version": "3.9.12"
  }
 },
 "nbformat": 4,
 "nbformat_minor": 5
}
