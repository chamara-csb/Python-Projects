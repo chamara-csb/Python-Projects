{
 "cells": [
  {
   "cell_type": "code",
   "execution_count": 57,
   "id": "20e9442e",
   "metadata": {},
   "outputs": [
    {
     "name": "stdout",
     "output_type": "stream",
     "text": [
      "Select what you want to do\n",
      "Check account balance : Input 1\n",
      "Cash withdrawal : Input 2\n",
      "Cash deposit : Input 3\n",
      ".............................\n",
      "Enter the number : 1\n",
      "Account balance is :  25000\n",
      ".............................\n",
      "Select what you want to do\n",
      "Check account balance : Input 1\n",
      "Cash withdrawal : Input 2\n",
      "Cash deposit : Input 3\n",
      ".............................\n",
      "Enter the number : 2\n",
      "Enter withdral amount: 14000\n",
      "Your current balance is :  11000\n",
      ".............................\n",
      "Select what you want to do\n",
      "Check account balance : Input 1\n",
      "Cash withdrawal : Input 2\n",
      "Cash deposit : Input 3\n",
      ".............................\n",
      "Enter the number : 3\n",
      "Enter deposit amount: 154200\n",
      "Your current balance is :  165200\n",
      ".............................\n",
      "Select what you want to do\n",
      "Check account balance : Input 1\n",
      "Cash withdrawal : Input 2\n",
      "Cash deposit : Input 3\n",
      ".............................\n",
      "Enter the number : 5\n",
      ".............................\n",
      "Thank You!\n"
     ]
    }
   ],
   "source": [
    "c_value=25000\n",
    "\n",
    "def display_balance():\n",
    "    print(\"Account balance is : \",c_value)\n",
    "\n",
    "def withdraw(value):\n",
    "    global c_value\n",
    "    if c_value>value:\n",
    "        if (c_value-value)>1000 and value<=100000:\n",
    "            balance=c_value-value\n",
    "            c_value=balance\n",
    "            print(\"Your current balance is : \",c_value)\n",
    "        elif (c_value-value)<1000 and value>100000:\n",
    "            print(\"you need to full fill both conditions\")\n",
    "    \n",
    "        elif (c_value-value)<1000:\n",
    "            print(\"1000 rupies need to remaining in the bank\")\n",
    "        else: \n",
    "            print(\"Cannot withdrow more than one lacks\")\n",
    "    else:\n",
    "        print(\"You can withdrow bellow :{} price\".format(c_value-1000))\n",
    "    \n",
    "        \n",
    "def deposit(value):\n",
    "    global c_value\n",
    "    c_value+=value\n",
    "    print(\"Your current balance is : \",c_value)\n",
    "    \n",
    "    \n",
    "flag=True\n",
    "\n",
    "while flag:\n",
    "   2\n",
    "    \n",
    "    choice=int(input(\"Enter the number : \"))\n",
    "    if choice==1:\n",
    "        display_balance()\n",
    "        print(\".............................\")\n",
    "    elif choice==2:\n",
    "        value=int(input(\"Enter withdral amount: \"))\n",
    "        withdraw(value)\n",
    "        print(\".............................\")\n",
    "    elif choice==3:\n",
    "        value=int(input(\"Enter deposit amount: \"))\n",
    "        deposit(value)\n",
    "        print(\".............................\")\n",
    "    else:\n",
    "        print(\".............................\")\n",
    "        print(\"Thank You!\")\n",
    "        flag = False\n"
   ]
  },
  {
   "cell_type": "code",
   "execution_count": null,
   "id": "3f648bb7",
   "metadata": {},
   "outputs": [],
   "source": []
  },
  {
   "cell_type": "code",
   "execution_count": null,
   "id": "849da7d3",
   "metadata": {},
   "outputs": [],
   "source": []
  },
  {
   "cell_type": "code",
   "execution_count": null,
   "id": "237b3ff3",
   "metadata": {},
   "outputs": [],
   "source": []
  },
  {
   "cell_type": "code",
   "execution_count": null,
   "id": "7c4f036b",
   "metadata": {},
   "outputs": [],
   "source": []
  },
  {
   "cell_type": "code",
   "execution_count": null,
   "id": "b9324b46",
   "metadata": {},
   "outputs": [],
   "source": []
  },
  {
   "cell_type": "code",
   "execution_count": null,
   "id": "ff092001",
   "metadata": {},
   "outputs": [],
   "source": []
  },
  {
   "cell_type": "code",
   "execution_count": null,
   "id": "a6c36d2e",
   "metadata": {},
   "outputs": [],
   "source": []
  },
  {
   "cell_type": "code",
   "execution_count": null,
   "id": "d2ff5383",
   "metadata": {},
   "outputs": [],
   "source": []
  }
 ],
 "metadata": {
  "kernelspec": {
   "display_name": "Python 3 (ipykernel)",
   "language": "python",
   "name": "python3"
  },
  "language_info": {
   "codemirror_mode": {
    "name": "ipython",
    "version": 3
   },
   "file_extension": ".py",
   "mimetype": "text/x-python",
   "name": "python",
   "nbconvert_exporter": "python",
   "pygments_lexer": "ipython3",
   "version": "3.9.12"
  }
 },
 "nbformat": 4,
 "nbformat_minor": 5
}
