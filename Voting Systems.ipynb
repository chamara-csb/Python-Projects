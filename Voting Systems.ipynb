{
 "cells": [
  {
   "cell_type": "code",
   "execution_count": 11,
   "id": "62bf5569",
   "metadata": {},
   "outputs": [
    {
     "name": "stdout",
     "output_type": "stream",
     "text": [
      "0\n"
     ]
    }
   ],
   "source": [
    "candidates={\"A\":0,\"B\":0,\"C\":0}\n",
    "print(candidates[\"A\"])\n",
    "voters=[\"V001\",\"V002\",\"V003\",\"V004\",\"V005\",\"V006\",\"V007\",\"V008\",\"V009\",\"V010\"]"
   ]
  },
  {
   "cell_type": "code",
   "execution_count": 14,
   "id": "6fd33e14",
   "metadata": {},
   "outputs": [
    {
     "name": "stdout",
     "output_type": "stream",
     "text": [
      "Enter voter ID: V001\n",
      "Select Candidate: A\n",
      "Enter voter ID: V002\n",
      "Select Candidate: C\n",
      "Enter voter ID: V003\n",
      "Select Candidate: A\n",
      "Enter voter ID: V004\n",
      "Select Candidate: C\n",
      "Enter voter ID: V005\n",
      "Select Candidate: A\n",
      "Enter voter ID: V007\n",
      "Select Candidate: A\n",
      "V007\n"
     ]
    }
   ],
   "source": [
    "\n",
    "total_vote=0\n",
    "\n",
    "while total_vote <= 5:\n",
    "    v_id = input(\"Enter voter ID: \")\n",
    "    if v_id in voters:\n",
    "        key=input(\"Select Candidate: \").upper()\n",
    "        candidates[key]+=1\n",
    "        total_vote+=1\n",
    "    else:\n",
    "        print(\"You are not valide vater\")\n",
    "        \n",
    "\n"
   ]
  },
  {
   "cell_type": "code",
   "execution_count": 15,
   "id": "38de17ad",
   "metadata": {},
   "outputs": [
    {
     "name": "stdout",
     "output_type": "stream",
     "text": [
      "{'A': 10, 'B': 2, 'C': 4}\n"
     ]
    }
   ],
   "source": [
    "print(candidates)"
   ]
  },
  {
   "cell_type": "code",
   "execution_count": null,
   "id": "f2460809",
   "metadata": {},
   "outputs": [],
   "source": []
  }
 ],
 "metadata": {
  "kernelspec": {
   "display_name": "Python 3 (ipykernel)",
   "language": "python",
   "name": "python3"
  },
  "language_info": {
   "codemirror_mode": {
    "name": "ipython",
    "version": 3
   },
   "file_extension": ".py",
   "mimetype": "text/x-python",
   "name": "python",
   "nbconvert_exporter": "python",
   "pygments_lexer": "ipython3",
   "version": "3.9.12"
  }
 },
 "nbformat": 4,
 "nbformat_minor": 5
}
