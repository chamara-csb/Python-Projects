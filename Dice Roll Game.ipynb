{
 "cells": [
  {
   "cell_type": "code",
   "execution_count": 3,
   "id": "c04e5bd8",
   "metadata": {},
   "outputs": [],
   "source": [
    "import random\n",
    "\n",
    "roll_die=lambda : random.randint(1,6)\n",
    "\n",
    "def dice_game(rounds):\n",
    "    player01 = input(\"Enter the Player 01 name : \")\n",
    "    player02 = input(\"Enter the Player 02 name : \")\n",
    "    \n",
    "    p1win = 0\n",
    "    p2win = 0\n",
    "    rn = 1\n",
    "    \n",
    "    while rn <= rounds:\n",
    "        print(\"-------------Round Number {}-------------\".format(rn))\n",
    "        p1 = roll_die()\n",
    "        p2 = roll_die()\n",
    "        \n",
    "        print(\"{} roll: {} and {} roll: {}\".format(player01,p1,player02,p2))\n",
    "        \n",
    "        if p1==p2:\n",
    "            print(\"The round was drawn\")\n",
    "        elif p1>p2:\n",
    "            print(\"The round was won by {}\".format(player01))\n",
    "            p1win+=1\n",
    "        else:\n",
    "            print(\"The round was won by {}\".format(player02))\n",
    "            p2win+=1\n",
    "        \n",
    "        rn+=1\n",
    "        \n",
    "    if p1win==p2win:\n",
    "        print(\"The game was Drawn\")\n",
    "    elif p1win>p2win:\n",
    "        print(\"The game won by {}\".format(player01))\n",
    "    else:\n",
    "        print(\"The game won by {}\".format(player02))\n"
   ]
  },
  {
   "cell_type": "code",
   "execution_count": 5,
   "id": "3dbba848",
   "metadata": {},
   "outputs": [
    {
     "name": "stdout",
     "output_type": "stream",
     "text": [
      "Enter the Player 01 name : Chamara\n",
      "Enter the Player 02 name : Kasun\n",
      "-------------Round Number 1-------------\n",
      "Chamara roll: 1 and Kasun roll: 6\n",
      "The round was won by Kasun\n",
      "-------------Round Number 2-------------\n",
      "Chamara roll: 1 and Kasun roll: 6\n",
      "The round was won by Kasun\n",
      "-------------Round Number 3-------------\n",
      "Chamara roll: 6 and Kasun roll: 6\n",
      "The round was drawn\n",
      "-------------Round Number 4-------------\n",
      "Chamara roll: 1 and Kasun roll: 3\n",
      "The round was won by Kasun\n",
      "The game won by Kasun\n"
     ]
    }
   ],
   "source": [
    "dice_game(4)"
   ]
  },
  {
   "cell_type": "code",
   "execution_count": null,
   "id": "627f81c5",
   "metadata": {},
   "outputs": [],
   "source": []
  }
 ],
 "metadata": {
  "kernelspec": {
   "display_name": "Python 3 (ipykernel)",
   "language": "python",
   "name": "python3"
  },
  "language_info": {
   "codemirror_mode": {
    "name": "ipython",
    "version": 3
   },
   "file_extension": ".py",
   "mimetype": "text/x-python",
   "name": "python",
   "nbconvert_exporter": "python",
   "pygments_lexer": "ipython3",
   "version": "3.9.12"
  }
 },
 "nbformat": 4,
 "nbformat_minor": 5
}
